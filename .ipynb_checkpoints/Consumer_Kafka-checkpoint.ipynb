{
 "cells": [
  {
   "cell_type": "code",
   "execution_count": 36,
   "id": "7c212572",
   "metadata": {},
   "outputs": [],
   "source": [
    "from kafka import KafkaConsumer\n",
    "from time import sleep\n",
    "import json\n",
    "import boto3\n",
    "import s3fs\n",
    "import datetime\n",
    "\n"
   ]
  },
  {
   "cell_type": "code",
   "execution_count": 37,
   "id": "ae139237",
   "metadata": {},
   "outputs": [],
   "source": [
    "consumer = KafkaConsumer(\"first_topic\",bootstrap_servers=[\"127.0.0.1:9092\"],value_deserializer=lambda x:json.loads(x.decode('utf-8')))"
   ]
  },
  {
   "cell_type": "code",
   "execution_count": 38,
   "id": "267bfae1",
   "metadata": {},
   "outputs": [],
   "source": [
    "s3 = s3fs.S3FileSystem()"
   ]
  },
  {
   "cell_type": "code",
   "execution_count": 40,
   "id": "882bf91e",
   "metadata": {},
   "outputs": [],
   "source": [
    "city = [\"pune\",\"mumbai\",\"hyderabad\",\"indore\"]\n",
    "idx = 0\n",
    "for c in consumer:\n",
    "    time = datetime.datetime.now()\n",
    "    with s3.open(f\"/kafka-project/city_wise_all_data/{city[idx]}/{city[idx]}_{time}.json\",\"w\") as f:\n",
    "        json.dump(c.value,f)\n",
    "        idx+=1\n",
    "    if idx == len(city):\n",
    "        idx = 0"
   ]
  },
  {
   "cell_type": "code",
   "execution_count": null,
   "id": "8d434d6f",
   "metadata": {},
   "outputs": [],
   "source": []
  }
 ],
 "metadata": {
  "kernelspec": {
   "display_name": "Python 3",
   "language": "python",
   "name": "python3"
  },
  "language_info": {
   "codemirror_mode": {
    "name": "ipython",
    "version": 3
   },
   "file_extension": ".py",
   "mimetype": "text/x-python",
   "name": "python",
   "nbconvert_exporter": "python",
   "pygments_lexer": "ipython3",
   "version": "3.6.9"
  }
 },
 "nbformat": 4,
 "nbformat_minor": 5
}
