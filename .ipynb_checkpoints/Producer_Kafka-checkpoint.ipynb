{
 "cells": [
  {
   "cell_type": "markdown",
   "id": "3f10276f",
   "metadata": {},
   "source": [
    "# importing required packages"
   ]
  },
  {
   "cell_type": "code",
   "execution_count": 4,
   "id": "52e3136c",
   "metadata": {},
   "outputs": [],
   "source": [
    "from kafka import KafkaProducer\n",
    "from time import sleep\n",
    "import json\n",
    "import requests\n"
   ]
  },
  {
   "cell_type": "markdown",
   "id": "fa1236e7",
   "metadata": {},
   "source": [
    "# Creating a kafka producer"
   ]
  },
  {
   "cell_type": "code",
   "execution_count": 24,
   "id": "28dd1f14",
   "metadata": {},
   "outputs": [],
   "source": [
    "producer = KafkaProducer(bootstrap_servers=[\"127.0.0.1:9092\"],value_serializer=lambda x:json.dumps(x).encode('utf-8'))"
   ]
  },
  {
   "cell_type": "code",
   "execution_count": 26,
   "id": "8d400940",
   "metadata": {},
   "outputs": [],
   "source": [
    "\n",
    "    "
   ]
  },
  {
   "cell_type": "markdown",
   "id": "39986388",
   "metadata": {},
   "source": [
    "# Collecting cities name according to country and state"
   ]
  },
  {
   "cell_type": "code",
   "execution_count": 1,
   "id": "45b827fd",
   "metadata": {},
   "outputs": [],
   "source": [
    "def get_cities_list(country_code=\"IN\",state_code=\"MP\"):\n",
    "    url = \"https://country-state-city-search-rest-api.p.rapidapi.com/cities-by-countrycode-and-statecode\"\n",
    "\n",
    "    querystring = {\"countrycode\":country_code,\"statecode\":state_code}\n",
    "\n",
    "    headers = {\n",
    "        \"X-RapidAPI-Key\": \"698b387090msh296ecfa89cd59b8p152797jsn067d7f958374\",\n",
    "        \"X-RapidAPI-Host\": \"country-state-city-search-rest-api.p.rapidapi.com\"\n",
    "    }\n",
    "\n",
    "    response = requests.get(url, headers=headers, params=querystring)\n",
    "\n",
    "    return response.json()"
   ]
  },
  {
   "cell_type": "code",
   "execution_count": null,
   "id": "a79fa025",
   "metadata": {},
   "outputs": [],
   "source": []
  },
  {
   "cell_type": "code",
   "execution_count": null,
   "id": "697985a8",
   "metadata": {},
   "outputs": [],
   "source": [
    "cities = get_cities_list()\n",
    "city=[]\n",
    "for c in cities:\n",
    "   city.append(c['name'])\n",
    "city"
   ]
  },
  {
   "cell_type": "markdown",
   "id": "121178cd",
   "metadata": {},
   "source": [
    "# Fetching live data using api and sending it threw kafka producer"
   ]
  },
  {
   "cell_type": "code",
   "execution_count": 21,
   "id": "3cb4e538",
   "metadata": {},
   "outputs": [],
   "source": [
    "\n",
    "\n",
    "while True:\n",
    "    for c in city:\n",
    "        url = \"https://weatherapi-com.p.rapidapi.com/current.json\"\n",
    "\n",
    "        querystring = {\"q\":c}\n",
    "\n",
    "        headers = {\n",
    "            \"X-RapidAPI-Key\": \"698b387090msh296ecfa89cd59b8p152797jsn067d7f958374\",\n",
    "            \"X-RapidAPI-Host\": \"weatherapi-com.p.rapidapi.com\"\n",
    "        }\n",
    "\n",
    "        response = requests.get(url, headers=headers, params=querystring)\n",
    "\n",
    "        weather = response.json()\n",
    "        \n",
    "        # If weather data of a city was not found then it will send error status for that city\n",
    "        \n",
    "        if weather.get(\"error\",-1) == -1:   \n",
    "            producer.send(\"first_topic\",value = weather)\n",
    "        else:\n",
    "            producer.send(\"first_topic\",value = {\"error\":\"not found\"})\n",
    "        \n",
    "    sleep(900)\n",
    "    \n",
    "    \n",
    "    "
   ]
  },
  {
   "cell_type": "code",
   "execution_count": null,
   "id": "4aeb17b1",
   "metadata": {},
   "outputs": [],
   "source": []
  },
  {
   "cell_type": "code",
   "execution_count": 22,
   "id": "a9e4094e",
   "metadata": {},
   "outputs": [],
   "source": [
    "producer.flush()"
   ]
  },
  {
   "cell_type": "code",
   "execution_count": null,
   "id": "6f349e78",
   "metadata": {},
   "outputs": [],
   "source": []
  },
  {
   "cell_type": "code",
   "execution_count": null,
   "id": "8e6a9f04",
   "metadata": {},
   "outputs": [],
   "source": []
  },
  {
   "cell_type": "code",
   "execution_count": 10,
   "id": "bca31eae",
   "metadata": {},
   "outputs": [],
   "source": []
  },
  {
   "cell_type": "code",
   "execution_count": null,
   "id": "e7d73ed0",
   "metadata": {},
   "outputs": [],
   "source": []
  },
  {
   "cell_type": "code",
   "execution_count": null,
   "id": "fe2a1357",
   "metadata": {},
   "outputs": [],
   "source": []
  },
  {
   "cell_type": "code",
   "execution_count": null,
   "id": "453f2986",
   "metadata": {},
   "outputs": [],
   "source": []
  }
 ],
 "metadata": {
  "kernelspec": {
   "display_name": "Python 3",
   "language": "python",
   "name": "python3"
  },
  "language_info": {
   "codemirror_mode": {
    "name": "ipython",
    "version": 3
   },
   "file_extension": ".py",
   "mimetype": "text/x-python",
   "name": "python",
   "nbconvert_exporter": "python",
   "pygments_lexer": "ipython3",
   "version": "3.6.9"
  }
 },
 "nbformat": 4,
 "nbformat_minor": 5
}
