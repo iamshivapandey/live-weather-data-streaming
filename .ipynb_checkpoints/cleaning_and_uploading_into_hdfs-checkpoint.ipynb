{
 "cells": [
  {
   "cell_type": "code",
   "execution_count": 97,
   "id": "621abc7a",
   "metadata": {},
   "outputs": [],
   "source": [
    "\n",
    "import os\n",
    "import sys\n",
    "\n",
    "os.environ[\"SPARK_HOME\"] = \"/home/talentum/spark\"\n",
    "os.environ[\"PYLIB\"] = os.environ[\"SPARK_HOME\"] + \"/python/lib\"\n",
    "\n",
    "os.environ[\"PYSPARK_PYTHON\"] = \"/usr/bin/python3.6\" \n",
    "os.environ[\"PYSPARK_DRIVER_PYTHON\"] = \"/usr/bin/python3\"\n",
    "sys.path.insert(0, os.environ[\"PYLIB\"] +\"/py4j-0.10.7-src.zip\")\n",
    "sys.path.insert(0, os.environ[\"PYLIB\"] +\"/pyspark.zip\")\n",
    "\n",
    "os.environ['PYSPARK_SUBMIT_ARGS'] = '--packages com.databricks:spark-xml_2.11:0.6.0,org.apache.spark:spark-avro_2.11:2.4.3 pyspark-shell'\n"
   ]
  },
  {
   "cell_type": "code",
   "execution_count": 211,
   "id": "4677c87c",
   "metadata": {},
   "outputs": [],
   "source": [
    "import os\n",
    "import pandas as pd\n",
    "import numpy as np\n",
    "import matplotlib.pyplot as plt\n",
    "from pyspark.sql import SparkSession\n",
    "import json\n",
    "import s3fs"
   ]
  },
  {
   "cell_type": "code",
   "execution_count": 212,
   "id": "2d16595d",
   "metadata": {},
   "outputs": [],
   "source": [
    "spark = SparkSession.builder.appName(\"Loading data from s3\").getOrCreate()\n",
    "sc = spark.sparkContext"
   ]
  },
  {
   "cell_type": "code",
   "execution_count": 213,
   "id": "29aa8525",
   "metadata": {},
   "outputs": [
    {
     "name": "stdout",
     "output_type": "stream",
     "text": [
      "['kafka-project']\n"
     ]
    }
   ],
   "source": [
    "# Creating s3 file system object\n",
    "s3 = s3fs.S3FileSystem()\n",
    "\n",
    "#Getting all the available buckets\n",
    "print(s3.ls(\"\"))"
   ]
  },
  {
   "cell_type": "code",
   "execution_count": 214,
   "id": "fa633f8a",
   "metadata": {},
   "outputs": [],
   "source": [
    "from pyspark.sql.types import StructType, StructField, StringType, DoubleType, IntegerType\n",
    "\n",
    "# Defining the schema for my Spark DataFrame\n",
    "def get_schema():\n",
    "    spark_schema = StructType([\n",
    "        StructField(\"name\", StringType(), True),\n",
    "        StructField(\"region\", StringType(), True),\n",
    "        StructField(\"country\", StringType(), True),\n",
    "        StructField(\"lat\", DoubleType(), True),\n",
    "        StructField(\"lon\", DoubleType(), True),\n",
    "        StructField(\"tz_id\", StringType(), True),\n",
    "        StructField(\"localtime_epoch\", IntegerType(), True),\n",
    "        StructField(\"localtime\", StringType(), True),\n",
    "        StructField(\"last_updated_epoch\", IntegerType(), True),\n",
    "        StructField(\"last_updated\", StringType(), True),\n",
    "        StructField(\"temp_c\", DoubleType(), True),\n",
    "        StructField(\"temp_f\", DoubleType(), True),\n",
    "        StructField(\"is_day\", IntegerType(), True),\n",
    "        StructField(\"wind_mph\", DoubleType(), True),\n",
    "        StructField(\"wind_kph\", DoubleType(), True),\n",
    "        StructField(\"wind_degree\", IntegerType(), True),\n",
    "        StructField(\"wind_dir\", StringType(), True),\n",
    "        StructField(\"pressure_mb\", DoubleType(), True),\n",
    "        StructField(\"pressure_in\", DoubleType(), True),\n",
    "        StructField(\"precip_mm\", DoubleType(), True),\n",
    "        StructField(\"precip_in\", DoubleType(), True),\n",
    "        StructField(\"humidity\", IntegerType(), True),\n",
    "        StructField(\"cloud\", IntegerType(), True),\n",
    "        StructField(\"feelslike_c\", DoubleType(), True),\n",
    "        StructField(\"feelslike_f\", DoubleType(), True),\n",
    "        StructField(\"vis_km\", DoubleType(), True),\n",
    "        StructField(\"vis_miles\", DoubleType(), True),\n",
    "        StructField(\"uv\", DoubleType(), True),\n",
    "        StructField(\"gust_mph\", DoubleType(), True),\n",
    "        StructField(\"gust_kph\", DoubleType(), True)\n",
    "    ])\n",
    "    return spark_schema"
   ]
  },
  {
   "cell_type": "code",
   "execution_count": 215,
   "id": "0742d1ca",
   "metadata": {},
   "outputs": [],
   "source": [
    "\n",
    "\n",
    "def get_processed_data(cities):\n",
    "    list_df = []\n",
    "    \n",
    "    for city in cities:\n",
    "        \n",
    "        bucket_name = \"kafka-project\"\n",
    "        folder_name = \"city_wise_all_data\"\n",
    "        all_file = s3.ls(bucket_name+\"/\"+folder_name+\"/\"+city)\n",
    "\n",
    "        df = spark.createDataFrame([],schema=get_schema())\n",
    "        \n",
    "        for file in all_file:\n",
    "            with s3.open(file,\"r\") as f:\n",
    "                d = json.load(f)\n",
    "                c = d.pop(\"current\")\n",
    "                c.pop(\"condition\")\n",
    "                d = d['location']\n",
    "                d.update(c)\n",
    "                temp_df = spark.createDataFrame([d],schema=get_schema())\n",
    "                df = df.union(temp_df)\n",
    "        list_df.append(df)\n",
    "    return list_df\n",
    "    \n",
    "            \n",
    "def put_data_into_hdfs(cities):\n",
    "    \n",
    "    list_df = get_processed_data(cities)\n",
    "    \n",
    "    for df,city in zip(list_df,cities):\n",
    "        col = [\"last_updated_epoch\",\"last_updated\",\"localtime\",\"localtime_epoch\",\"is_day\",\"lat\",\"lon\"]\n",
    "        df = df.drop(*col)\n",
    "        df = df.withColumnRenamed(\"name\",\"city\")\n",
    "        df = df.withColumnRenamed(\"tz_id\",\"timezone\")\n",
    "        df.coalesce(1).write.csv(f\"hdfs:///user/talentum/weather_data/{city}\",mode=\"overwrite\",header=True)\n",
    "    print(\"Data Uploaded Succesfully into HDFS.....\")"
   ]
  },
  {
   "cell_type": "code",
   "execution_count": 216,
   "id": "bbf579c2",
   "metadata": {},
   "outputs": [
    {
     "name": "stdout",
     "output_type": "stream",
     "text": [
      "Data Uploaded Succesfully into HDFS.....\n"
     ]
    }
   ],
   "source": [
    "put_data_into_hdfs(['pune','indore','mumbai'])"
   ]
  },
  {
   "cell_type": "code",
   "execution_count": null,
   "id": "aa854537",
   "metadata": {},
   "outputs": [],
   "source": []
  }
 ],
 "metadata": {
  "kernelspec": {
   "display_name": "Python 3",
   "language": "python",
   "name": "python3"
  },
  "language_info": {
   "codemirror_mode": {
    "name": "ipython",
    "version": 3
   },
   "file_extension": ".py",
   "mimetype": "text/x-python",
   "name": "python",
   "nbconvert_exporter": "python",
   "pygments_lexer": "ipython3",
   "version": "3.6.9"
  }
 },
 "nbformat": 4,
 "nbformat_minor": 5
}
