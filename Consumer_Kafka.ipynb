{
 "cells": [
  {
   "cell_type": "markdown",
   "id": "f4afbf5f",
   "metadata": {},
   "source": [
    "# importing required packages"
   ]
  },
  {
   "cell_type": "code",
   "execution_count": 36,
   "id": "7c212572",
   "metadata": {},
   "outputs": [],
   "source": [
    "from kafka import KafkaConsumer\n",
    "from time import sleep\n",
    "import json\n",
    "import boto3\n",
    "import s3fs\n",
    "import datetime\n",
    "\n"
   ]
  },
  {
   "cell_type": "markdown",
   "id": "6f1ce11e",
   "metadata": {},
   "source": [
    "# Creating kafka Consumer"
   ]
  },
  {
   "cell_type": "code",
   "execution_count": 37,
   "id": "ae139237",
   "metadata": {},
   "outputs": [],
   "source": [
    "consumer = KafkaConsumer(\"first_topic\",bootstrap_servers=[\"127.0.0.1:9092\"],value_deserializer=lambda x:json.loads(x.decode('utf-8')))"
   ]
  },
  {
   "cell_type": "code",
   "execution_count": 38,
   "id": "267bfae1",
   "metadata": {},
   "outputs": [],
   "source": [
    "s3 = s3fs.S3FileSystem() # Connecting with AWS s3 bucket"
   ]
  },
  {
   "cell_type": "markdown",
   "id": "d8c4cd84",
   "metadata": {},
   "source": [
    "# Collecting cities name according to country and state"
   ]
  },
  {
   "cell_type": "code",
   "execution_count": 2,
   "id": "6a0e786a",
   "metadata": {},
   "outputs": [],
   "source": [
    "def get_cities_list(country_code=\"IN\",state_code=\"MP\"):\n",
    "    url = \"https://country-state-city-search-rest-api.p.rapidapi.com/cities-by-countrycode-and-statecode\"\n",
    "\n",
    "    querystring = {\"countrycode\":country_code,\"statecode\":state_code}\n",
    "\n",
    "    headers = {\n",
    "        \"X-RapidAPI-Key\": \"698b387090msh296ecfa89cd59b8p152797jsn067d7f958374\",\n",
    "        \"X-RapidAPI-Host\": \"country-state-city-search-rest-api.p.rapidapi.com\"\n",
    "    }\n",
    "\n",
    "    response = requests.get(url, headers=headers, params=querystring)\n",
    "\n",
    "    return response.json()"
   ]
  },
  {
   "cell_type": "code",
   "execution_count": null,
   "id": "25eed57b",
   "metadata": {},
   "outputs": [],
   "source": [
    "cities = get_cities_list()\n",
    "city=[]\n",
    "for c in cities:\n",
    "   city.append(c['name'])\n",
    "city"
   ]
  },
  {
   "cell_type": "markdown",
   "id": "1b642124",
   "metadata": {},
   "source": [
    "# Passing city names to dump data into s3 bucket"
   ]
  },
  {
   "cell_type": "code",
   "execution_count": 40,
   "id": "882bf91e",
   "metadata": {},
   "outputs": [],
   "source": [
    "idx = 0\n",
    "for c in consumer:\n",
    "    time = datetime.datetime.now()\n",
    "    \n",
    "    if c.value.get('error',-1) == -1:\n",
    "        with s3.open(f\"/kafka-project/city_wise_all_data/{city[idx]}/{city[idx]}_{time}.json\",\"w\") as f:\n",
    "            json.dump(c.value,f)\n",
    "            idx+=1\n",
    "    else:\n",
    "            idx+=1\n",
    "        \n",
    "    if idx == len(city):\n",
    "        idx = 0"
   ]
  },
  {
   "cell_type": "code",
   "execution_count": null,
   "id": "8d434d6f",
   "metadata": {},
   "outputs": [],
   "source": []
  }
 ],
 "metadata": {
  "kernelspec": {
   "display_name": "Python 3",
   "language": "python",
   "name": "python3"
  },
  "language_info": {
   "codemirror_mode": {
    "name": "ipython",
    "version": 3
   },
   "file_extension": ".py",
   "mimetype": "text/x-python",
   "name": "python",
   "nbconvert_exporter": "python",
   "pygments_lexer": "ipython3",
   "version": "3.6.9"
  }
 },
 "nbformat": 4,
 "nbformat_minor": 5
}
