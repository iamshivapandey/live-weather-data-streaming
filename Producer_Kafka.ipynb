{
 "cells": [
  {
   "cell_type": "code",
   "execution_count": 23,
   "id": "52e3136c",
   "metadata": {},
   "outputs": [],
   "source": [
    "from kafka import KafkaProducer\n",
    "from time import sleep\n",
    "import json\n",
    "import requests\n"
   ]
  },
  {
   "cell_type": "code",
   "execution_count": 24,
   "id": "28dd1f14",
   "metadata": {},
   "outputs": [],
   "source": [
    "producer = KafkaProducer(bootstrap_servers=[\"127.0.0.1:9092\"],value_serializer=lambda x:json.dumps(x).encode('utf-8'))"
   ]
  },
  {
   "cell_type": "code",
   "execution_count": 26,
   "id": "8d400940",
   "metadata": {},
   "outputs": [],
   "source": [
    "city = [\"pune\",\"mumbai\",\"hyderabad\",\"indore\"]\n",
    "\n",
    "while True:\n",
    "    for c in city:\n",
    "        url = \"https://weatherapi-com.p.rapidapi.com/current.json\"\n",
    "\n",
    "        querystring = {\"q\":c}\n",
    "\n",
    "        headers = {\n",
    "            \"X-RapidAPI-Key\": \"698b387090msh296ecfa89cd59b8p152797jsn067d7f958374\",\n",
    "            \"X-RapidAPI-Host\": \"weatherapi-com.p.rapidapi.com\"\n",
    "        }\n",
    "\n",
    "        response = requests.get(url, headers=headers, params=querystring)\n",
    "\n",
    "        weather = response.json()\n",
    "        producer.send(\"first_topic\",value = weather)\n",
    "        \n",
    "    sleep(900)\n",
    "    "
   ]
  },
  {
   "cell_type": "code",
   "execution_count": 22,
   "id": "a9e4094e",
   "metadata": {},
   "outputs": [],
   "source": [
    "producer.flush()"
   ]
  },
  {
   "cell_type": "code",
   "execution_count": null,
   "id": "6f349e78",
   "metadata": {},
   "outputs": [],
   "source": []
  },
  {
   "cell_type": "code",
   "execution_count": null,
   "id": "8e6a9f04",
   "metadata": {},
   "outputs": [],
   "source": []
  },
  {
   "cell_type": "code",
   "execution_count": 10,
   "id": "bca31eae",
   "metadata": {},
   "outputs": [],
   "source": []
  },
  {
   "cell_type": "code",
   "execution_count": null,
   "id": "e7d73ed0",
   "metadata": {},
   "outputs": [],
   "source": []
  },
  {
   "cell_type": "code",
   "execution_count": null,
   "id": "fe2a1357",
   "metadata": {},
   "outputs": [],
   "source": []
  }
 ],
 "metadata": {
  "kernelspec": {
   "display_name": "Python 3",
   "language": "python",
   "name": "python3"
  },
  "language_info": {
   "codemirror_mode": {
    "name": "ipython",
    "version": 3
   },
   "file_extension": ".py",
   "mimetype": "text/x-python",
   "name": "python",
   "nbconvert_exporter": "python",
   "pygments_lexer": "ipython3",
   "version": "3.6.9"
  }
 },
 "nbformat": 4,
 "nbformat_minor": 5
}
